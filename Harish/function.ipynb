{
 "cells": [
  {
   "cell_type": "code",
   "execution_count": 2,
   "metadata": {},
   "outputs": [],
   "source": [
    "# load_nifti_image will check if the given file path has a valid nifti image, if yes it will return the image object.\n",
    "# If not it will return False and the error message.\n",
    "\n",
    "import nibabel as nib\n",
    "\n",
    "def load_nifti_image(path):\n",
    "    try:\n",
    "        Nifti_image = nib.load(path)\n",
    "        return Nifti_image\n",
    "    except Exception as error:\n",
    "        print(\"Problem while loading Nifti => \" + str(error) + \"\\n\")\n",
    "        return False\n",
    "    \n",
    "# load_msdl_atlas_file will check if the given directory path has the MSDL atlas file,\n",
    "# if yes it will print the number of ROIs and return the atlas object.\n",
    "# if not it will return the error message.\n",
    "\n",
    "from nilearn import datasets\n",
    "import numpy as np\n",
    "\n",
    "def load_msdl_atlas_file(directory_path):\n",
    "    try:\n",
    "        msdl_atlas = datasets.fetch_atlas_msdl(data_dir=directory_path)\n",
    "        n_regions = len(msdl_atlas.region_coords)\n",
    "        print(f'The Atlas has {n_regions} ROIs, part of the following networks:\\n{np.unique(msdl_atlas.networks)}.')\n",
    "        return msdl_atlas\n",
    "    except Exception as error:\n",
    "        print(\"Problem while loading MSDL Atlas => \" + str(error) + \"\\n\")\n",
    "        return False "
   ]
  },
  {
   "cell_type": "code",
   "execution_count": null,
   "metadata": {},
   "outputs": [],
   "source": [
    "import nilearn.maskers as maskers\n",
    "\n",
    "def create_time_series(nifti_image_path, atlas_directory_path):\n",
    "    Nifti_image = load_nifti_image(nifti_image_path)\n",
    "    msdl_atlas = load_msdl_atlas_file(atlas_directory_path)\n",
    "        \n",
    "    masker = maskers.NiftiMapsMasker(msdl_atlas.maps, resampling_target=\"data\", detrend=True).fit()\n",
    "    roi_time_series = masker.transform(Nifti_image)\n",
    "    print(\"The shape of the Time Series: \", roi_time_series.shape,\"\\n\")\n",
    "    return roi_time_series\n"
   ]
  },
  {
   "cell_type": "code",
   "execution_count": null,
   "metadata": {},
   "outputs": [],
   "source": [
    "\n",
    "from nilearn import plotting\n",
    "from nilearn.connectome import ConnectivityMeasure\n",
    "\n",
    "def calculate_correlation(nifti_image_path, atlas_directory_path):\n",
    "    Nifti_image = load_nifti_image(nifti_image_path)\n",
    "    msdl_atlas = load_msdl_atlas_file(atlas_directory_path)\n",
    "    \n",
    "    masker = maskers.NiftiMapsMasker(msdl_atlas.maps, resampling_target=\"data\", detrend=True).fit()\n",
    "    roi_time_series = masker.transform(Nifti_image)\n",
    "    \n",
    "    correlation_matrix = ConnectivityMeasure(kind='correlation').fit_transform([roi_time_series])[0]\n",
    "    np.fill_diagonal(correlation_matrix, 0)\n",
    "    \n",
    "    plotting.plot_matrix(correlation_matrix, labels=msdl_atlas.labels, vmax=1.0, vmin=0, colorbar=True, title='Correlation matrix of the MSDL atlas')\n",
    "    \n",
    "    return correlation_matrix\n",
    "\n",
    "\n",
    "# Fuction to extract Datapoints from the correlation matrix.\n",
    "import numpy as np\n",
    "\n",
    "def extract_datapoints(corr_matrix):\n",
    "    # Get the indices of the upper triangle of the matrix\n",
    "    indices = np.triu_indices(corr_matrix.shape[0], k=1)\n",
    "    \n",
    "    # Extract the values of the top diagonal without zeros and Flatten the array\n",
    "    Datapoints = corr_matrix[indices].flatten()\n",
    "    \n",
    "    return Datapoints"
   ]
  },
  {
   "cell_type": "code",
   "execution_count": null,
   "metadata": {},
   "outputs": [],
   "source": [
    "\n",
    "def extract_features(nifti_image_path, atlas_directory_path):\n",
    "    correlation_matrix = calculate_correlation(nifti_image_path, atlas_directory_path)\n",
    "    return extract_datapoints(correlation_matrix)\n"
   ]
  }
 ],
 "metadata": {
  "kernelspec": {
   "display_name": "PD",
   "language": "python",
   "name": "python3"
  },
  "language_info": {
   "codemirror_mode": {
    "name": "ipython",
    "version": 3
   },
   "file_extension": ".py",
   "mimetype": "text/x-python",
   "name": "python",
   "nbconvert_exporter": "python",
   "pygments_lexer": "ipython3",
   "version": "3.11.8"
  }
 },
 "nbformat": 4,
 "nbformat_minor": 2
}
