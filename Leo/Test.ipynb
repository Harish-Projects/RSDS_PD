{
 "cells": [
  {
   "cell_type": "markdown",
   "metadata": {},
   "source": [
    "Atlas Segmentierung"
   ]
  },
  {
   "cell_type": "code",
   "execution_count": 5,
   "metadata": {},
   "outputs": [],
   "source": [
    "import numpy as np\n",
    "from nilearn import image\n",
    "import nibabel as nib\n",
    "\n",
    "path = \"/Users/leoschild/Desktop/100307/MNINonLinear/Results/rfMRI_REST1_LR/rfMRI_REST1_LR.nii\"\n",
    "Nifti_img = nib.nifti1.load(path)\n",
    "Dataset = image.get_data(Nifti_img)"
   ]
  },
  {
   "cell_type": "code",
   "execution_count": 3,
   "metadata": {},
   "outputs": [
    {
     "name": "stdout",
     "output_type": "stream",
     "text": [
      "Data shape:  (91, 109, 91, 1200)\n",
      "Data dtype:  float32\n"
     ]
    }
   ],
   "source": [
    "print(\"Data shape: \", Dataset.shape)\n",
    "print(\"Data dtype: \", Dataset.dtype)"
   ]
  }
 ],
 "metadata": {
  "kernelspec": {
   "display_name": "Python 3",
   "language": "python",
   "name": "python3"
  },
  "language_info": {
   "codemirror_mode": {
    "name": "ipython",
    "version": 3
   },
   "file_extension": ".py",
   "mimetype": "text/x-python",
   "name": "python",
   "nbconvert_exporter": "python",
   "pygments_lexer": "ipython3",
   "version": "3.11.8"
  }
 },
 "nbformat": 4,
 "nbformat_minor": 2
}
