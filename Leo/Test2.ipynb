{
 "cells": [
  {
   "cell_type": "code",
   "execution_count": null,
   "metadata": {},
   "outputs": [],
   "source": [
    "import numpy as np\n",
    "import pandas as pd\n",
    "import matplotlib.pyplot as plt\n",
    "from nilearn import image\n",
    "from nilearn import plotting \n",
    "from nilearn.connectome import ConnectivityMeasure\n",
    "import nibabel as nib\n",
    "\n",
    "path = \"/Users/leoschild/Desktop/LEO/RSDS.nosync/100307_FIX/MNINonLinear/Results/rfMRI_REST1_LR/rfMRI_REST1_LR_hp2000_clean.nii\"\n",
    "Nifti_img = nib.nifti1.load(path)\n",
    "Bild = image.get_data(Nifti_img)"
   ]
  },
  {
   "cell_type": "code",
   "execution_count": null,
   "metadata": {},
   "outputs": [],
   "source": [
    "from nilearn import datasets\n",
    "msdl_atlas = datasets.fetch_atlas_msdl(data_dir= None)\n",
    "msdl_coords = msdl_atlas.region_coords\n",
    "anzahl_regions = len(msdl_coords)"
   ]
  },
  {
   "cell_type": "code",
   "execution_count": null,
   "metadata": {},
   "outputs": [],
   "source": [
    "plotting.plot_prob_atlas(msdl_atlas.maps, bg_img=Nifti_img.slicer[:, :, :, 120], title='fMRI mit Atlas')"
   ]
  },
  {
   "cell_type": "code",
   "execution_count": null,
   "metadata": {},
   "outputs": [],
   "source": [
    "import nilearn.maskers as maskers\n",
    "masker = maskers.NiftiMapsMasker(msdl_atlas.maps, resampling_target=\"data\").fit()"
   ]
  },
  {
   "cell_type": "code",
   "execution_count": null,
   "metadata": {},
   "outputs": [],
   "source": [
    "report = masker.generate_report(displayed_maps=[0,1,2,37,38])\n",
    "report"
   ]
  },
  {
   "cell_type": "code",
   "execution_count": null,
   "metadata": {},
   "outputs": [],
   "source": [
    "roi_time_series = masker.transform(Nifti_img)\n",
    "roi_time_series.shape"
   ]
  },
  {
   "cell_type": "code",
   "execution_count": null,
   "metadata": {},
   "outputs": [],
   "source": [
    "from nilearn.connectome import ConnectivityMeasure\n",
    "\n",
    "correlation_measure = ConnectivityMeasure(kind='correlation')\n",
    "correlation_matrix = correlation_measure.fit_transform([roi_time_series])[0]"
   ]
  },
  {
   "cell_type": "code",
   "execution_count": null,
   "metadata": {},
   "outputs": [],
   "source": [
    "np.fill_diagonal(correlation_matrix, 0)\n",
    "plotting.plot_matrix(correlation_matrix, labels=msdl_atlas.labels,vmax=0.8, vmin=-0.8, colorbar=True)"
   ]
  },
  {
   "cell_type": "code",
   "execution_count": null,
   "metadata": {},
   "outputs": [],
   "source": [
    "plotting.view_connectome(correlation_matrix, edge_threshold=0.2, node_coords=msdl_atlas.region_coords)"
   ]
  }
 ],
 "metadata": {
  "kernelspec": {
   "display_name": "DataScience",
   "language": "python",
   "name": "python3"
  },
  "language_info": {
   "codemirror_mode": {
    "name": "ipython",
    "version": 3
   },
   "file_extension": ".py",
   "mimetype": "text/x-python",
   "name": "python",
   "nbconvert_exporter": "python",
   "pygments_lexer": "ipython3",
   "version": "3.11.8"
  }
 },
 "nbformat": 4,
 "nbformat_minor": 2
}
