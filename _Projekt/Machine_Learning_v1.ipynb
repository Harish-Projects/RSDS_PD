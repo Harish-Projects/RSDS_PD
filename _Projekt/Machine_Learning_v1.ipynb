{
 "cells": [
  {
   "cell_type": "code",
   "execution_count": 2,
   "metadata": {},
   "outputs": [
    {
     "name": "stdout",
     "output_type": "stream",
     "text": [
      "(19, 743)\n"
     ]
    },
    {
     "data": {
      "text/html": [
       "<div>\n",
       "<style scoped>\n",
       "    .dataframe tbody tr th:only-of-type {\n",
       "        vertical-align: middle;\n",
       "    }\n",
       "\n",
       "    .dataframe tbody tr th {\n",
       "        vertical-align: top;\n",
       "    }\n",
       "\n",
       "    .dataframe thead th {\n",
       "        text-align: right;\n",
       "    }\n",
       "</style>\n",
       "<table border=\"1\" class=\"dataframe\">\n",
       "  <thead>\n",
       "    <tr style=\"text-align: right;\">\n",
       "      <th></th>\n",
       "      <th>ID</th>\n",
       "      <th>Pfade</th>\n",
       "      <th>NeueSpalte_2</th>\n",
       "      <th>NeueSpalte_3</th>\n",
       "      <th>NeueSpalte_4</th>\n",
       "      <th>NeueSpalte_5</th>\n",
       "      <th>NeueSpalte_6</th>\n",
       "      <th>NeueSpalte_7</th>\n",
       "      <th>NeueSpalte_8</th>\n",
       "      <th>NeueSpalte_9</th>\n",
       "      <th>...</th>\n",
       "      <th>NeueSpalte_733</th>\n",
       "      <th>NeueSpalte_734</th>\n",
       "      <th>NeueSpalte_735</th>\n",
       "      <th>NeueSpalte_736</th>\n",
       "      <th>NeueSpalte_737</th>\n",
       "      <th>NeueSpalte_738</th>\n",
       "      <th>NeueSpalte_739</th>\n",
       "      <th>NeueSpalte_740</th>\n",
       "      <th>NeueSpalte_741</th>\n",
       "      <th>NeueSpalte_742</th>\n",
       "    </tr>\n",
       "  </thead>\n",
       "  <tbody>\n",
       "    <tr>\n",
       "      <th>0</th>\n",
       "      <td>f_100307</td>\n",
       "      <td>/Users/leoschild/Desktop/LEO/RSDS.nosync/Vorb_...</td>\n",
       "      <td>0.842616</td>\n",
       "      <td>0.281377</td>\n",
       "      <td>0.145945</td>\n",
       "      <td>0.143361</td>\n",
       "      <td>0.136568</td>\n",
       "      <td>0.125769</td>\n",
       "      <td>-0.153299</td>\n",
       "      <td>0.489867</td>\n",
       "      <td>...</td>\n",
       "      <td>0.528217</td>\n",
       "      <td>0.552261</td>\n",
       "      <td>0.080016</td>\n",
       "      <td>-0.099528</td>\n",
       "      <td>0.550423</td>\n",
       "      <td>0.198592</td>\n",
       "      <td>-0.022323</td>\n",
       "      <td>0.080028</td>\n",
       "      <td>-0.165354</td>\n",
       "      <td>0.500013</td>\n",
       "    </tr>\n",
       "    <tr>\n",
       "      <th>1</th>\n",
       "      <td>f_105014</td>\n",
       "      <td>/Users/leoschild/Desktop/LEO/RSDS.nosync/Vorb_...</td>\n",
       "      <td>0.801185</td>\n",
       "      <td>0.31438</td>\n",
       "      <td>0.005703</td>\n",
       "      <td>0.028383</td>\n",
       "      <td>0.032578</td>\n",
       "      <td>0.170047</td>\n",
       "      <td>-0.149016</td>\n",
       "      <td>0.647706</td>\n",
       "      <td>...</td>\n",
       "      <td>0.601232</td>\n",
       "      <td>0.630362</td>\n",
       "      <td>0.452356</td>\n",
       "      <td>0.319196</td>\n",
       "      <td>0.559091</td>\n",
       "      <td>0.487466</td>\n",
       "      <td>0.36968</td>\n",
       "      <td>0.359345</td>\n",
       "      <td>0.286999</td>\n",
       "      <td>0.631849</td>\n",
       "    </tr>\n",
       "    <tr>\n",
       "      <th>2</th>\n",
       "      <td>f_117122</td>\n",
       "      <td>/Users/leoschild/Desktop/LEO/RSDS.nosync/Vorb_...</td>\n",
       "      <td>0.909063</td>\n",
       "      <td>0.475049</td>\n",
       "      <td>0.267137</td>\n",
       "      <td>0.418913</td>\n",
       "      <td>0.333262</td>\n",
       "      <td>0.318331</td>\n",
       "      <td>0.457528</td>\n",
       "      <td>0.611297</td>\n",
       "      <td>...</td>\n",
       "      <td>0.522906</td>\n",
       "      <td>0.701851</td>\n",
       "      <td>0.324999</td>\n",
       "      <td>0.246327</td>\n",
       "      <td>0.569567</td>\n",
       "      <td>0.335609</td>\n",
       "      <td>0.452695</td>\n",
       "      <td>0.362368</td>\n",
       "      <td>0.345511</td>\n",
       "      <td>0.751584</td>\n",
       "    </tr>\n",
       "    <tr>\n",
       "      <th>3</th>\n",
       "      <td>f_118528</td>\n",
       "      <td>/Users/leoschild/Desktop/LEO/RSDS.nosync/Vorb_...</td>\n",
       "      <td>0.766762</td>\n",
       "      <td>0.197657</td>\n",
       "      <td>-0.008234</td>\n",
       "      <td>0.113065</td>\n",
       "      <td>0.098727</td>\n",
       "      <td>0.078905</td>\n",
       "      <td>-0.147879</td>\n",
       "      <td>0.674439</td>\n",
       "      <td>...</td>\n",
       "      <td>0.533029</td>\n",
       "      <td>0.652959</td>\n",
       "      <td>0.305309</td>\n",
       "      <td>0.189316</td>\n",
       "      <td>0.50307</td>\n",
       "      <td>0.45867</td>\n",
       "      <td>0.465517</td>\n",
       "      <td>0.24414</td>\n",
       "      <td>0.168589</td>\n",
       "      <td>0.671725</td>\n",
       "    </tr>\n",
       "    <tr>\n",
       "      <th>4</th>\n",
       "      <td>f_128127</td>\n",
       "      <td>/Users/leoschild/Desktop/LEO/RSDS.nosync/Vorb_...</td>\n",
       "      <td>0.774523</td>\n",
       "      <td>0.072471</td>\n",
       "      <td>0.152157</td>\n",
       "      <td>0.137245</td>\n",
       "      <td>0.129428</td>\n",
       "      <td>0.082874</td>\n",
       "      <td>0.167083</td>\n",
       "      <td>0.500557</td>\n",
       "      <td>...</td>\n",
       "      <td>0.69342</td>\n",
       "      <td>0.685404</td>\n",
       "      <td>0.451762</td>\n",
       "      <td>0.499827</td>\n",
       "      <td>0.66331</td>\n",
       "      <td>0.386001</td>\n",
       "      <td>0.435546</td>\n",
       "      <td>0.568302</td>\n",
       "      <td>0.635042</td>\n",
       "      <td>0.757881</td>\n",
       "    </tr>\n",
       "  </tbody>\n",
       "</table>\n",
       "<p>5 rows × 743 columns</p>\n",
       "</div>"
      ],
      "text/plain": [
       "         ID                                              Pfade NeueSpalte_2  \\\n",
       "0  f_100307  /Users/leoschild/Desktop/LEO/RSDS.nosync/Vorb_...     0.842616   \n",
       "1  f_105014  /Users/leoschild/Desktop/LEO/RSDS.nosync/Vorb_...     0.801185   \n",
       "2  f_117122  /Users/leoschild/Desktop/LEO/RSDS.nosync/Vorb_...     0.909063   \n",
       "3  f_118528  /Users/leoschild/Desktop/LEO/RSDS.nosync/Vorb_...     0.766762   \n",
       "4  f_128127  /Users/leoschild/Desktop/LEO/RSDS.nosync/Vorb_...     0.774523   \n",
       "\n",
       "  NeueSpalte_3 NeueSpalte_4 NeueSpalte_5 NeueSpalte_6 NeueSpalte_7  \\\n",
       "0     0.281377     0.145945     0.143361     0.136568     0.125769   \n",
       "1      0.31438     0.005703     0.028383     0.032578     0.170047   \n",
       "2     0.475049     0.267137     0.418913     0.333262     0.318331   \n",
       "3     0.197657    -0.008234     0.113065     0.098727     0.078905   \n",
       "4     0.072471     0.152157     0.137245     0.129428     0.082874   \n",
       "\n",
       "  NeueSpalte_8 NeueSpalte_9  ... NeueSpalte_733 NeueSpalte_734 NeueSpalte_735  \\\n",
       "0    -0.153299     0.489867  ...       0.528217       0.552261       0.080016   \n",
       "1    -0.149016     0.647706  ...       0.601232       0.630362       0.452356   \n",
       "2     0.457528     0.611297  ...       0.522906       0.701851       0.324999   \n",
       "3    -0.147879     0.674439  ...       0.533029       0.652959       0.305309   \n",
       "4     0.167083     0.500557  ...        0.69342       0.685404       0.451762   \n",
       "\n",
       "  NeueSpalte_736 NeueSpalte_737 NeueSpalte_738 NeueSpalte_739 NeueSpalte_740  \\\n",
       "0      -0.099528       0.550423       0.198592      -0.022323       0.080028   \n",
       "1       0.319196       0.559091       0.487466        0.36968       0.359345   \n",
       "2       0.246327       0.569567       0.335609       0.452695       0.362368   \n",
       "3       0.189316        0.50307        0.45867       0.465517        0.24414   \n",
       "4       0.499827        0.66331       0.386001       0.435546       0.568302   \n",
       "\n",
       "  NeueSpalte_741 NeueSpalte_742  \n",
       "0      -0.165354       0.500013  \n",
       "1       0.286999       0.631849  \n",
       "2       0.345511       0.751584  \n",
       "3       0.168589       0.671725  \n",
       "4       0.635042       0.757881  \n",
       "\n",
       "[5 rows x 743 columns]"
      ]
     },
     "execution_count": 2,
     "metadata": {},
     "output_type": "execute_result"
    }
   ],
   "source": [
    "import pandas as pd\n",
    "Df = pd.read_pickle('df.pkl')\n",
    "print(Df.shape)\n",
    "Df.head()"
   ]
  },
  {
   "cell_type": "code",
   "execution_count": 3,
   "metadata": {},
   "outputs": [],
   "source": [
    "Df.pop('Pfade') # removing Pfade from the dataframe\n",
    "label = Df.pop('ID') # removing and saving ID from the dataframe into label \n",
    "Dataset = Df.values # converting the dataframe into numpy array"
   ]
  },
  {
   "cell_type": "code",
   "execution_count": 4,
   "metadata": {},
   "outputs": [],
   "source": [
    "import numpy as np\n",
    "import scipy.stats as stats\n",
    "\n",
    "# the variable 'Dataset' contains the 2D array (10, 741)\n",
    "P_value = np.empty(Dataset.shape[1]*2).reshape(741,2) # creating an array of zeros with the same length as the number of rows in the dataset\n",
    "count = 0\n",
    "for columns in Dataset.T:\n",
    "    # Perform operations on each column\n",
    "    diff = np.round((columns[:14]-columns[5:]).tolist(), 19) # subtracting the first five elements from the last five elements of the column\n",
    "    P_value[count,:] = stats.wilcoxon(diff, alternative= \"two-sided\") # comparing the man and woman samples for every feature of the dataset\n",
    "    count += 1 "
   ]
  },
  {
   "cell_type": "code",
   "execution_count": 5,
   "metadata": {},
   "outputs": [
    {
     "data": {
      "text/plain": [
       "6"
      ]
     },
     "execution_count": 5,
     "metadata": {},
     "output_type": "execute_result"
    }
   ],
   "source": [
    "(P_value[:,1]<0.05).sum()"
   ]
  },
  {
   "cell_type": "code",
   "execution_count": 10,
   "metadata": {},
   "outputs": [
    {
     "name": "stdout",
     "output_type": "stream",
     "text": [
      "[[44.          0.62573242]\n",
      " [44.          0.62573242]\n",
      " [50.          0.90319824]\n",
      " ...\n",
      " [38.          0.39099121]\n",
      " [33.          0.24121094]\n",
      " [38.          0.39099121]]\n",
      "(741, 2)\n"
     ]
    }
   ],
   "source": [
    "print(P_value)\n",
    "print(P_value.shape)"
   ]
  },
  {
   "cell_type": "code",
   "execution_count": 6,
   "metadata": {},
   "outputs": [],
   "source": [
    "p_value_fdr = stats.false_discovery_control(P_value[:,1], method='bh')"
   ]
  },
  {
   "cell_type": "code",
   "execution_count": 7,
   "metadata": {},
   "outputs": [
    {
     "data": {
      "text/plain": [
       "0"
      ]
     },
     "execution_count": 7,
     "metadata": {},
     "output_type": "execute_result"
    }
   ],
   "source": [
    "(p_value_fdr < 0.7).sum()"
   ]
  },
  {
   "cell_type": "code",
   "execution_count": 8,
   "metadata": {},
   "outputs": [
    {
     "name": "stdout",
     "output_type": "stream",
     "text": [
      "[1. 1. 1. 1. 1. 1. 1. 1. 1. 1. 1. 1. 1. 1. 1. 1. 1. 1. 1. 1. 1. 1. 1. 1.\n",
      " 1. 1. 1. 1. 1. 1. 1. 1. 1. 1. 1. 1. 1. 1. 1. 1. 1. 1. 1. 1. 1. 1. 1. 1.\n",
      " 1. 1. 1. 1. 1. 1. 1. 1. 1. 1. 1. 1. 1. 1. 1. 1. 1. 1. 1. 1. 1. 1. 1. 1.\n",
      " 1. 1. 1. 1. 1. 1. 1. 1. 1. 1. 1. 1. 1. 1. 1. 1. 1. 1. 1. 1. 1. 1. 1. 1.\n",
      " 1. 1. 1. 1. 1. 1. 1. 1. 1. 1. 1. 1. 1. 1. 1. 1. 1. 1. 1. 1. 1. 1. 1. 1.\n",
      " 1. 1. 1. 1. 1. 1. 1. 1. 1. 1. 1. 1. 1. 1. 1. 1. 1. 1. 1. 1. 1. 1. 1. 1.\n",
      " 1. 1. 1. 1. 1. 1. 1. 1. 1. 1. 1. 1. 1. 1. 1. 1. 1. 1. 1. 1. 1. 1. 1. 1.\n",
      " 1. 1. 1. 1. 1. 1. 1. 1. 1. 1. 1. 1. 1. 1. 1. 1. 1. 1. 1. 1. 1. 1. 1. 1.\n",
      " 1. 1. 1. 1. 1. 1. 1. 1. 1. 1. 1. 1. 1. 1. 1. 1. 1. 1. 1. 1. 1. 1. 1. 1.\n",
      " 1. 1. 1. 1. 1. 1. 1. 1. 1. 1. 1. 1. 1. 1. 1. 1. 1. 1. 1. 1. 1. 1. 1. 1.\n",
      " 1. 1. 1. 1. 1. 1. 1. 1. 1. 1. 1. 1. 1. 1. 1. 1. 1. 1. 1. 1. 1. 1. 1. 1.\n",
      " 1. 1. 1. 1. 1. 1. 1. 1. 1. 1. 1. 1. 1. 1. 1. 1. 1. 1. 1. 1. 1. 1. 1. 1.\n",
      " 1. 1. 1. 1. 1. 1. 1. 1. 1. 1. 1. 1. 1. 1. 1. 1. 1. 1. 1. 1. 1. 1. 1. 1.\n",
      " 1. 1. 1. 1. 1. 1. 1. 1. 1. 1. 1. 1. 1. 1. 1. 1. 1. 1. 1. 1. 1. 1. 1. 1.\n",
      " 1. 1. 1. 1. 1. 1. 1. 1. 1. 1. 1. 1. 1. 1. 1. 1. 1. 1. 1. 1. 1. 1. 1. 1.\n",
      " 1. 1. 1. 1. 1. 1. 1. 1. 1. 1. 1. 1. 1. 1. 1. 1. 1. 1. 1. 1. 1. 1. 1. 1.\n",
      " 1. 1. 1. 1. 1. 1. 1. 1. 1. 1. 1. 1. 1. 1. 1. 1. 1. 1. 1. 1. 1. 1. 1. 1.\n",
      " 1. 1. 1. 1. 1. 1. 1. 1. 1. 1. 1. 1. 1. 1. 1. 1. 1. 1. 1. 1. 1. 1. 1. 1.\n",
      " 1. 1. 1. 1. 1. 1. 1. 1. 1. 1. 1. 1. 1. 1. 1. 1. 1. 1. 1. 1. 1. 1. 1. 1.\n",
      " 1. 1. 1. 1. 1. 1. 1. 1. 1. 1. 1. 1. 1. 1. 1. 1. 1. 1. 1. 1. 1. 1. 1. 1.\n",
      " 1. 1. 1. 1. 1. 1. 1. 1. 1. 1. 1. 1. 1. 1. 1. 1. 1. 1. 1. 1. 1. 1. 1. 1.\n",
      " 1. 1. 1. 1. 1. 1. 1. 1. 1. 1. 1. 1. 1. 1. 1. 1. 1. 1. 1. 1. 1. 1. 1. 1.\n",
      " 1. 1. 1. 1. 1. 1. 1. 1. 1. 1. 1. 1. 1. 1. 1. 1. 1. 1. 1. 1. 1. 1. 1. 1.\n",
      " 1. 1. 1. 1. 1. 1. 1. 1. 1. 1. 1. 1. 1. 1. 1. 1. 1. 1. 1. 1. 1. 1. 1. 1.\n",
      " 1. 1. 1. 1. 1. 1. 1. 1. 1. 1. 1. 1. 1. 1. 1. 1. 1. 1. 1. 1. 1. 1. 1. 1.\n",
      " 1. 1. 1. 1. 1. 1. 1. 1. 1. 1. 1. 1. 1. 1. 1. 1. 1. 1. 1. 1. 1. 1. 1. 1.\n",
      " 1. 1. 1. 1. 1. 1. 1. 1. 1. 1. 1. 1. 1. 1. 1. 1. 1. 1. 1. 1. 1. 1. 1. 1.\n",
      " 1. 1. 1. 1. 1. 1. 1. 1. 1. 1. 1. 1. 1. 1. 1. 1. 1. 1. 1. 1. 1. 1. 1. 1.\n",
      " 1. 1. 1. 1. 1. 1. 1. 1. 1. 1. 1. 1. 1. 1. 1. 1. 1. 1. 1. 1. 1. 1. 1. 1.\n",
      " 1. 1. 1. 1. 1. 1. 1. 1. 1. 1. 1. 1. 1. 1. 1. 1. 1. 1. 1. 1. 1. 1. 1. 1.\n",
      " 1. 1. 1. 1. 1. 1. 1. 1. 1. 1. 1. 1. 1. 1. 1. 1. 1. 1. 1. 1. 1.]\n"
     ]
    }
   ],
   "source": [
    "print(p_value_fdr)"
   ]
  },
  {
   "cell_type": "code",
   "execution_count": 9,
   "metadata": {},
   "outputs": [],
   "source": [
    "from sklearn.manifold import TSNE\n",
    "\n",
    "X_embedded= TSNE(n_components=2, random_state=0, perplexity=5).fit_transform(Dataset)"
   ]
  },
  {
   "cell_type": "code",
   "execution_count": 11,
   "metadata": {},
   "outputs": [
    {
     "data": {
      "text/plain": [
       "<matplotlib.collections.PathCollection at 0x12d211a90>"
      ]
     },
     "execution_count": 11,
     "metadata": {},
     "output_type": "execute_result"
    },
    {
     "data": {
      "image/png": "[encoded data removed]",
      "text/plain": [
       "<Figure size 640x480 with 1 Axes>"
      ]
     },
     "metadata": {},
     "output_type": "display_data"
    }
   ],
   "source": [
    "from matplotlib import pyplot as plt\n",
    "plt.scatter(X_embedded[:,0], X_embedded[:,1], c = ['r', 'r', 'r', 'r', 'r','r', 'r', 'r', 'r', 'r','r', 'r', 'r', 'r', 'b', 'b', 'b', 'b', 'b'])"
   ]
  }
 ],
 "metadata": {
  "kernelspec": {
   "display_name": "DataScience",
   "language": "python",
   "name": "python3"
  },
  "language_info": {
   "codemirror_mode": {
    "name": "ipython",
    "version": 3
   },
   "file_extension": ".py",
   "mimetype": "text/x-python",
   "name": "python",
   "nbconvert_exporter": "python",
   "pygments_lexer": "ipython3",
   "version": "3.11.8"
  }
 },
 "nbformat": 4,
 "nbformat_minor": 2
}
