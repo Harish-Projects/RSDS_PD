{
 "cells": [
  {
   "cell_type": "code",
   "execution_count": 2,
   "metadata": {},
   "outputs": [
    {
     "name": "stdout",
     "output_type": "stream",
     "text": [
      "(30, 743)\n"
     ]
    },
    {
     "data": {
      "text/html": [
       "<div>\n",
       "<style scoped>\n",
       "    .dataframe tbody tr th:only-of-type {\n",
       "        vertical-align: middle;\n",
       "    }\n",
       "\n",
       "    .dataframe tbody tr th {\n",
       "        vertical-align: top;\n",
       "    }\n",
       "\n",
       "    .dataframe thead th {\n",
       "        text-align: right;\n",
       "    }\n",
       "</style>\n",
       "<table border=\"1\" class=\"dataframe\">\n",
       "  <thead>\n",
       "    <tr style=\"text-align: right;\">\n",
       "      <th></th>\n",
       "      <th>ID</th>\n",
       "      <th>Pfade</th>\n",
       "      <th>NeueSpalte_2</th>\n",
       "      <th>NeueSpalte_3</th>\n",
       "      <th>NeueSpalte_4</th>\n",
       "      <th>NeueSpalte_5</th>\n",
       "      <th>NeueSpalte_6</th>\n",
       "      <th>NeueSpalte_7</th>\n",
       "      <th>NeueSpalte_8</th>\n",
       "      <th>NeueSpalte_9</th>\n",
       "      <th>...</th>\n",
       "      <th>NeueSpalte_733</th>\n",
       "      <th>NeueSpalte_734</th>\n",
       "      <th>NeueSpalte_735</th>\n",
       "      <th>NeueSpalte_736</th>\n",
       "      <th>NeueSpalte_737</th>\n",
       "      <th>NeueSpalte_738</th>\n",
       "      <th>NeueSpalte_739</th>\n",
       "      <th>NeueSpalte_740</th>\n",
       "      <th>NeueSpalte_741</th>\n",
       "      <th>NeueSpalte_742</th>\n",
       "    </tr>\n",
       "  </thead>\n",
       "  <tbody>\n",
       "    <tr>\n",
       "      <th>0</th>\n",
       "      <td>f_100307</td>\n",
       "      <td>/Users/leoschild/Desktop/LEO/RSDS.nosync/Vorb_...</td>\n",
       "      <td>0.842616</td>\n",
       "      <td>0.281377</td>\n",
       "      <td>0.145945</td>\n",
       "      <td>0.143361</td>\n",
       "      <td>0.136568</td>\n",
       "      <td>0.125769</td>\n",
       "      <td>-0.153299</td>\n",
       "      <td>0.489867</td>\n",
       "      <td>...</td>\n",
       "      <td>0.528217</td>\n",
       "      <td>0.552261</td>\n",
       "      <td>0.080016</td>\n",
       "      <td>-0.099528</td>\n",
       "      <td>0.550423</td>\n",
       "      <td>0.198592</td>\n",
       "      <td>-0.022323</td>\n",
       "      <td>0.080028</td>\n",
       "      <td>-0.165354</td>\n",
       "      <td>0.500013</td>\n",
       "    </tr>\n",
       "    <tr>\n",
       "      <th>1</th>\n",
       "      <td>f_105014</td>\n",
       "      <td>/Users/leoschild/Desktop/LEO/RSDS.nosync/Vorb_...</td>\n",
       "      <td>0.801185</td>\n",
       "      <td>0.31438</td>\n",
       "      <td>0.005703</td>\n",
       "      <td>0.028383</td>\n",
       "      <td>0.032578</td>\n",
       "      <td>0.170047</td>\n",
       "      <td>-0.149016</td>\n",
       "      <td>0.647706</td>\n",
       "      <td>...</td>\n",
       "      <td>0.601232</td>\n",
       "      <td>0.630362</td>\n",
       "      <td>0.452356</td>\n",
       "      <td>0.319196</td>\n",
       "      <td>0.559091</td>\n",
       "      <td>0.487466</td>\n",
       "      <td>0.36968</td>\n",
       "      <td>0.359345</td>\n",
       "      <td>0.286999</td>\n",
       "      <td>0.631849</td>\n",
       "    </tr>\n",
       "    <tr>\n",
       "      <th>2</th>\n",
       "      <td>f_117122</td>\n",
       "      <td>/Users/leoschild/Desktop/LEO/RSDS.nosync/Vorb_...</td>\n",
       "      <td>0.909063</td>\n",
       "      <td>0.475049</td>\n",
       "      <td>0.267137</td>\n",
       "      <td>0.418913</td>\n",
       "      <td>0.333262</td>\n",
       "      <td>0.318331</td>\n",
       "      <td>0.457528</td>\n",
       "      <td>0.611297</td>\n",
       "      <td>...</td>\n",
       "      <td>0.522906</td>\n",
       "      <td>0.701851</td>\n",
       "      <td>0.324999</td>\n",
       "      <td>0.246327</td>\n",
       "      <td>0.569567</td>\n",
       "      <td>0.335609</td>\n",
       "      <td>0.452695</td>\n",
       "      <td>0.362368</td>\n",
       "      <td>0.345511</td>\n",
       "      <td>0.751584</td>\n",
       "    </tr>\n",
       "    <tr>\n",
       "      <th>3</th>\n",
       "      <td>f_118528</td>\n",
       "      <td>/Users/leoschild/Desktop/LEO/RSDS.nosync/Vorb_...</td>\n",
       "      <td>0.766762</td>\n",
       "      <td>0.197657</td>\n",
       "      <td>-0.008234</td>\n",
       "      <td>0.113065</td>\n",
       "      <td>0.098727</td>\n",
       "      <td>0.078905</td>\n",
       "      <td>-0.147879</td>\n",
       "      <td>0.674439</td>\n",
       "      <td>...</td>\n",
       "      <td>0.533029</td>\n",
       "      <td>0.652959</td>\n",
       "      <td>0.305309</td>\n",
       "      <td>0.189316</td>\n",
       "      <td>0.50307</td>\n",
       "      <td>0.45867</td>\n",
       "      <td>0.465517</td>\n",
       "      <td>0.24414</td>\n",
       "      <td>0.168589</td>\n",
       "      <td>0.671725</td>\n",
       "    </tr>\n",
       "    <tr>\n",
       "      <th>4</th>\n",
       "      <td>f_120111</td>\n",
       "      <td>/Users/leoschild/Desktop/LEO/RSDS.nosync/Vorb_...</td>\n",
       "      <td>0.869413</td>\n",
       "      <td>0.108178</td>\n",
       "      <td>0.121637</td>\n",
       "      <td>0.073883</td>\n",
       "      <td>0.020967</td>\n",
       "      <td>0.130447</td>\n",
       "      <td>-0.014669</td>\n",
       "      <td>0.311112</td>\n",
       "      <td>...</td>\n",
       "      <td>0.461053</td>\n",
       "      <td>0.726004</td>\n",
       "      <td>0.433603</td>\n",
       "      <td>0.402498</td>\n",
       "      <td>0.563341</td>\n",
       "      <td>0.452181</td>\n",
       "      <td>0.411742</td>\n",
       "      <td>0.493374</td>\n",
       "      <td>0.531044</td>\n",
       "      <td>0.694649</td>\n",
       "    </tr>\n",
       "  </tbody>\n",
       "</table>\n",
       "<p>5 rows × 743 columns</p>\n",
       "</div>"
      ],
      "text/plain": [
       "         ID                                              Pfade NeueSpalte_2  \\\n",
       "0  f_100307  /Users/leoschild/Desktop/LEO/RSDS.nosync/Vorb_...     0.842616   \n",
       "1  f_105014  /Users/leoschild/Desktop/LEO/RSDS.nosync/Vorb_...     0.801185   \n",
       "2  f_117122  /Users/leoschild/Desktop/LEO/RSDS.nosync/Vorb_...     0.909063   \n",
       "3  f_118528  /Users/leoschild/Desktop/LEO/RSDS.nosync/Vorb_...     0.766762   \n",
       "4  f_120111  /Users/leoschild/Desktop/LEO/RSDS.nosync/Vorb_...     0.869413   \n",
       "\n",
       "  NeueSpalte_3 NeueSpalte_4 NeueSpalte_5 NeueSpalte_6 NeueSpalte_7  \\\n",
       "0     0.281377     0.145945     0.143361     0.136568     0.125769   \n",
       "1      0.31438     0.005703     0.028383     0.032578     0.170047   \n",
       "2     0.475049     0.267137     0.418913     0.333262     0.318331   \n",
       "3     0.197657    -0.008234     0.113065     0.098727     0.078905   \n",
       "4     0.108178     0.121637     0.073883     0.020967     0.130447   \n",
       "\n",
       "  NeueSpalte_8 NeueSpalte_9  ... NeueSpalte_733 NeueSpalte_734 NeueSpalte_735  \\\n",
       "0    -0.153299     0.489867  ...       0.528217       0.552261       0.080016   \n",
       "1    -0.149016     0.647706  ...       0.601232       0.630362       0.452356   \n",
       "2     0.457528     0.611297  ...       0.522906       0.701851       0.324999   \n",
       "3    -0.147879     0.674439  ...       0.533029       0.652959       0.305309   \n",
       "4    -0.014669     0.311112  ...       0.461053       0.726004       0.433603   \n",
       "\n",
       "  NeueSpalte_736 NeueSpalte_737 NeueSpalte_738 NeueSpalte_739 NeueSpalte_740  \\\n",
       "0      -0.099528       0.550423       0.198592      -0.022323       0.080028   \n",
       "1       0.319196       0.559091       0.487466        0.36968       0.359345   \n",
       "2       0.246327       0.569567       0.335609       0.452695       0.362368   \n",
       "3       0.189316        0.50307        0.45867       0.465517        0.24414   \n",
       "4       0.402498       0.563341       0.452181       0.411742       0.493374   \n",
       "\n",
       "  NeueSpalte_741 NeueSpalte_742  \n",
       "0      -0.165354       0.500013  \n",
       "1       0.286999       0.631849  \n",
       "2       0.345511       0.751584  \n",
       "3       0.168589       0.671725  \n",
       "4       0.531044       0.694649  \n",
       "\n",
       "[5 rows x 743 columns]"
      ]
     },
     "execution_count": 2,
     "metadata": {},
     "output_type": "execute_result"
    }
   ],
   "source": [
    "import pandas as pd\n",
    "Df = pd.read_pickle('df.pkl')\n",
    "print(Df.shape)\n",
    "Df.head()"
   ]
  },
  {
   "cell_type": "code",
   "execution_count": 3,
   "metadata": {},
   "outputs": [],
   "source": [
    "Df.pop('Pfade') # removing Pfade from the dataframe\n",
    "label = Df.pop('ID') # removing and saving ID from the dataframe into label \n",
    "Dataset = Df.values # converting the dataframe into numpy array"
   ]
  },
  {
   "cell_type": "code",
   "execution_count": 4,
   "metadata": {},
   "outputs": [],
   "source": [
    "import numpy as np\n",
    "import scipy.stats as stats\n",
    "\n",
    "# the variable 'Dataset' contains the 2D array (10, 741)\n",
    "P_value = np.empty(Dataset.shape[1]*2).reshape(741,2) # creating an array of zeros with the same length as the number of rows in the dataset\n",
    "count = 0\n",
    "for columns in Dataset.T:\n",
    "    # Perform operations on each column\n",
    "    diff = np.round((columns[:15]-columns[15:]).tolist(), 30) # subtracting the first five elements from the last five elements of the column\n",
    "    P_value[count,:] = stats.wilcoxon(diff, alternative= \"two-sided\") # comparing the man and woman samples for every feature of the dataset\n",
    "    count += 1 "
   ]
  },
  {
   "cell_type": "code",
   "execution_count": 5,
   "metadata": {},
   "outputs": [
    {
     "data": {
      "text/plain": [
       "36"
      ]
     },
     "execution_count": 5,
     "metadata": {},
     "output_type": "execute_result"
    }
   ],
   "source": [
    "(P_value[:,1]<0.05).sum()"
   ]
  },
  {
   "cell_type": "code",
   "execution_count": 6,
   "metadata": {},
   "outputs": [
    {
     "name": "stdout",
     "output_type": "stream",
     "text": [
      "[[59.          0.97796631]\n",
      " [60.          1.        ]\n",
      " [49.          0.56140137]\n",
      " ...\n",
      " [46.          0.45428467]\n",
      " [29.          0.08325195]\n",
      " [43.          0.35913086]]\n",
      "(741, 2)\n"
     ]
    }
   ],
   "source": [
    "print(P_value)\n",
    "print(P_value.shape)"
   ]
  },
  {
   "cell_type": "code",
   "execution_count": 7,
   "metadata": {},
   "outputs": [],
   "source": [
    "p_value_fdr = stats.false_discovery_control(P_value[:,1], method='bh')"
   ]
  },
  {
   "cell_type": "code",
   "execution_count": 9,
   "metadata": {},
   "outputs": [
    {
     "name": "stdout",
     "output_type": "stream",
     "text": [
      "[0.99954901 1.         0.92035047 0.92035047 0.96093222 0.96296572\n",
      " 0.8858551  0.95440234 0.8858551  0.8858551  0.91015468 0.92035047\n",
      " 0.85293223 0.93717319 0.95440234 0.98180389 0.85293223 0.8858551\n",
      " 0.9734162  0.8858551  0.92035047 0.96093222 0.85293223 0.8858551\n",
      " 0.90533249 0.98180389 0.96296572 0.90533249 0.8858551  0.8858551\n",
      " 0.96093222 0.98180389 0.96296572 0.8858551  0.85293223 0.8858551\n",
      " 0.98180389 0.8858551  0.92035047 0.98180389 0.8858551  0.98180389\n",
      " 0.91015468 0.93717319 0.99590617 0.85293223 0.85293223 0.85293223\n",
      " 0.96093222 0.85293223 0.85293223 0.8858551  1.         0.8858551\n",
      " 0.98180389 1.         0.96296572 0.96093222 0.85293223 0.85293223\n",
      " 0.85293223 0.85293223 0.8858551  0.9734162  0.99954901 0.85293223\n",
      " 0.8858551  0.8858551  0.91015468 0.85293223 0.85293223 0.85293223\n",
      " 0.8858551  0.96093222 0.8858551  0.85293223 0.85293223 0.85293223\n",
      " 0.8858551  0.85293223 0.99954901 0.8858551  0.85293223 0.92035047\n",
      " 0.85293223 0.87473228 0.8858551  0.8858551  0.99590617 0.8858551\n",
      " 0.99954901 0.85293223 0.94086652 0.8858551  0.99954901 0.85293223\n",
      " 0.8858551  0.85293223 0.87473228 0.93717319 0.98180389 0.85293223\n",
      " 0.95440234 0.85293223 0.8858551  0.8858551  0.8858551  0.8858551\n",
      " 0.93717319 0.8858551  0.85293223 0.90533249 0.8858551  0.98180389\n",
      " 0.8858551  0.8858551  0.95440234 0.85293223 0.95440234 0.8858551\n",
      " 0.8858551  0.91015468 0.98180389 0.96093222 0.85293223 0.85293223\n",
      " 0.96093222 0.96093222 1.         0.8858551  0.8858551  0.9734162\n",
      " 0.99954901 0.9734162  0.99590617 0.99590617 0.8858551  0.95440234\n",
      " 0.98180389 0.85293223 1.         0.8858551  0.8858551  0.96296572\n",
      " 0.8858551  0.85293223 0.96296572 0.9734162  0.85293223 0.96296572\n",
      " 0.96296572 0.87473228 0.99954901 0.85293223 0.99954901 0.8858551\n",
      " 0.8858551  0.95440234 0.85293223 0.8858551  0.96296572 0.8858551\n",
      " 0.92035047 0.8858551  0.85293223 0.8858551  0.93717319 0.90533249\n",
      " 0.96296572 0.99590617 0.8858551  0.8858551  0.99590617 0.85293223\n",
      " 0.96296572 0.85293223 0.8858551  0.85293223 0.99590617 0.96296572\n",
      " 0.96093222 0.8858551  0.8858551  0.99590617 0.8858551  0.92035047\n",
      " 0.8858551  0.8858551  0.8858551  0.87473228 0.96296572 0.85293223\n",
      " 0.85293223 0.90533249 0.8858551  0.92035047 0.92035047 0.8858551\n",
      " 0.94086652 0.9734162  0.96296572 0.90533249 0.99954901 0.92035047\n",
      " 0.8858551  0.98180389 0.85293223 0.92035047 0.8858551  0.90533249\n",
      " 0.91015468 0.92035047 0.8858551  0.85293223 0.95440234 0.85293223\n",
      " 0.91015468 0.90533249 0.85293223 0.98180389 0.85293223 0.85293223\n",
      " 0.90533249 0.8858551  0.8858551  0.96296572 0.99590617 0.96296572\n",
      " 0.98180389 0.8858551  0.95440234 0.94086652 0.94086652 0.98180389\n",
      " 0.93717319 0.85293223 0.98180389 0.98180389 0.85293223 0.9734162\n",
      " 0.8858551  0.8858551  0.91015468 0.98180389 0.94086652 0.8858551\n",
      " 0.85293223 0.96296572 0.8858551  0.92035047 0.8858551  0.85293223\n",
      " 0.85293223 0.96296572 0.85293223 0.85293223 0.8858551  0.85293223\n",
      " 0.85293223 0.85293223 0.8858551  0.9734162  0.85293223 0.85293223\n",
      " 0.85293223 0.85293223 0.94086652 0.85293223 0.87473228 0.8858551\n",
      " 0.85293223 0.85293223 0.85293223 0.85293223 0.85293223 0.93717319\n",
      " 0.8858551  0.85293223 0.92035047 1.         0.8858551  0.94086652\n",
      " 0.99954901 0.8858551  0.8858551  0.98180389 0.8858551  0.98180389\n",
      " 0.96093222 0.95440234 0.8858551  0.92035047 0.99590617 0.8858551\n",
      " 0.98180389 0.99954901 0.8858551  0.94086652 0.87473228 0.9734162\n",
      " 0.93717319 0.8858551  0.8858551  0.87473228 0.98180389 0.85293223\n",
      " 0.85293223 0.8858551  0.99954901 0.85293223 0.99590617 0.99590617\n",
      " 0.99954901 0.90533249 0.95440234 0.98180389 0.99590617 0.94086652\n",
      " 0.98180389 0.8858551  0.91015468 0.8858551  0.8858551  0.99590617\n",
      " 0.91015468 0.8858551  0.91015468 0.91015468 0.8858551  0.98180389\n",
      " 0.8858551  0.8858551  0.85293223 0.8858551  0.87473228 0.8858551\n",
      " 0.91015468 0.8858551  0.8858551  0.85293223 0.85293223 0.91015468\n",
      " 0.85293223 0.87473228 0.85293223 0.85293223 0.91015468 0.85293223\n",
      " 0.98180389 0.90533249 0.8858551  0.91015468 0.8858551  0.85293223\n",
      " 0.8858551  0.98180389 0.96093222 0.9734162  0.99590617 0.9734162\n",
      " 0.99954901 0.8858551  0.85293223 0.99590617 0.85293223 0.96093222\n",
      " 1.         0.9734162  0.8858551  0.8858551  0.95440234 0.98180389\n",
      " 0.98180389 0.96093222 0.8858551  0.94086652 0.98180389 0.96296572\n",
      " 0.96093222 1.         0.8858551  0.90533249 0.91015468 0.98180389\n",
      " 0.85293223 0.87473228 0.8858551  0.85293223 0.8858551  0.85293223\n",
      " 0.8858551  0.85293223 0.92035047 0.98180389 0.9734162  0.98180389\n",
      " 0.8858551  0.85293223 0.85293223 0.94086652 0.91015468 1.\n",
      " 0.8858551  0.8858551  0.96093222 0.8858551  0.8858551  0.8858551\n",
      " 0.9734162  0.9734162  0.9734162  0.85293223 0.87473228 0.85293223\n",
      " 0.8858551  0.8858551  0.8858551  0.8858551  0.85293223 0.9734162\n",
      " 0.94086652 0.96093222 0.8858551  0.90533249 0.8858551  0.91015468\n",
      " 0.85293223 0.8858551  0.85293223 0.8858551  0.85293223 0.85293223\n",
      " 0.85293223 0.85293223 0.94086652 0.93717319 0.85293223 0.96093222\n",
      " 0.85293223 0.8858551  0.85293223 0.93717319 0.9734162  0.90533249\n",
      " 0.85293223 0.96093222 0.92035047 0.8858551  0.8858551  0.90533249\n",
      " 0.8858551  0.8858551  0.8858551  0.98180389 0.92035047 0.8858551\n",
      " 0.95440234 0.95440234 0.94086652 0.95440234 0.85293223 0.85293223\n",
      " 0.85293223 0.85293223 0.85293223 0.98180389 0.8858551  0.98180389\n",
      " 0.99954901 0.99954901 0.8858551  0.99590617 0.8858551  0.99954901\n",
      " 0.92035047 0.85293223 0.92035047 0.98180389 0.9734162  1.\n",
      " 0.99954901 0.99954901 0.94086652 0.8858551  0.8858551  0.8858551\n",
      " 0.8858551  0.8858551  0.96093222 0.95440234 0.96296572 0.98180389\n",
      " 0.96093222 0.91015468 0.94086652 0.98180389 0.8858551  0.8858551\n",
      " 0.91015468 0.99954901 0.98180389 0.94086652 0.9734162  0.95440234\n",
      " 1.         0.85293223 0.8858551  0.85293223 0.8858551  0.8858551\n",
      " 0.85293223 0.85293223 0.85293223 0.8858551  0.91015468 0.8858551\n",
      " 1.         0.85293223 0.8858551  0.8858551  0.85293223 0.96093222\n",
      " 0.85293223 0.8858551  0.90533249 0.8858551  0.9734162  0.8858551\n",
      " 0.99590617 0.93717319 0.8858551  0.85293223 0.8858551  0.8858551\n",
      " 1.         0.8858551  0.98180389 0.91015468 0.96093222 0.96296572\n",
      " 0.8858551  0.9734162  0.8858551  0.98180389 0.96296572 0.99954901\n",
      " 1.         0.96296572 0.94086652 0.98180389 0.96296572 0.8858551\n",
      " 0.98180389 0.92035047 0.85293223 0.95440234 0.93717319 0.95440234\n",
      " 0.98180389 0.99590617 0.8858551  0.96296572 0.85293223 0.98180389\n",
      " 0.99954901 0.96296572 0.9734162  0.94086652 0.98180389 0.96093222\n",
      " 0.8858551  0.8858551  0.85293223 0.96296572 0.85293223 0.8858551\n",
      " 0.96296572 0.94086652 0.8858551  0.8858551  0.8858551  0.98180389\n",
      " 0.91015468 0.8858551  0.8858551  0.90533249 0.8858551  0.85293223\n",
      " 0.8858551  0.85293223 0.94086652 0.85293223 0.8858551  0.99590617\n",
      " 0.99954901 0.8858551  0.8858551  0.8858551  0.94086652 0.98180389\n",
      " 0.8858551  0.96296572 0.95440234 0.91015468 0.8858551  0.85293223\n",
      " 0.8858551  0.92035047 0.99590617 0.98180389 0.85293223 0.85293223\n",
      " 0.8858551  0.85293223 0.94086652 0.95440234 0.9734162  0.90533249\n",
      " 0.93717319 0.98180389 0.93717319 0.85293223 0.8858551  0.85293223\n",
      " 0.85293223 0.85293223 0.85293223 0.85293223 0.85293223 0.98180389\n",
      " 0.94086652 0.94086652 0.9734162  0.93717319 0.93717319 0.87473228\n",
      " 0.96093222 0.90533249 0.8858551  0.93717319 0.85293223 0.85293223\n",
      " 0.85293223 0.8858551  0.8858551  0.85293223 0.8858551  0.85293223\n",
      " 0.8858551  0.85293223 0.92035047 0.93717319 0.8858551  0.85293223\n",
      " 0.98180389 0.85293223 0.8858551  0.95440234 0.99954901 0.94086652\n",
      " 0.99590617 0.99954901 0.93717319 0.8858551  0.8858551  0.85293223\n",
      " 0.99954901 0.85293223 0.94086652 0.98180389 0.98180389 0.96093222\n",
      " 0.96093222 0.99954901 0.9734162  0.99954901 0.98180389 0.93717319\n",
      " 0.91015468 1.         0.99954901 0.85293223 0.87473228 0.8858551\n",
      " 0.95440234 0.96296572 0.94086652 1.         0.96296572 0.98180389\n",
      " 0.99590617 0.85293223 0.8858551  0.8858551  0.98180389 0.98180389\n",
      " 0.99954901 0.8858551  0.8858551  0.8858551  0.85293223 0.85293223\n",
      " 0.85293223 0.8858551  0.8858551  0.85293223 0.93717319 0.94086652\n",
      " 0.8858551  0.95440234 0.8858551  0.98180389 0.8858551  0.91015468\n",
      " 0.85293223 0.85293223 0.85293223 0.85293223 0.85293223 0.85293223\n",
      " 0.8858551  0.8858551  0.8858551  0.93717319 0.85293223 0.8858551\n",
      " 0.8858551  0.8858551  0.8858551  0.85293223 0.85293223 0.90533249\n",
      " 0.8858551  0.96093222 0.85293223 0.91015468 0.92035047 0.85293223\n",
      " 0.8858551  0.85293223 0.8858551 ]\n"
     ]
    }
   ],
   "source": [
    "print(p_value_fdr)"
   ]
  },
  {
   "cell_type": "code",
   "execution_count": 7,
   "metadata": {},
   "outputs": [
    {
     "data": {
      "text/plain": [
       "(30, 39)"
      ]
     },
     "execution_count": 7,
     "metadata": {},
     "output_type": "execute_result"
    }
   ],
   "source": [
    "import Feature_Reduction_Pipeline as FRP\n",
    "red_feat = FRP.select_features(Df, 15)\n",
    "Df[red_feat].shape"
   ]
  },
  {
   "cell_type": "code",
   "execution_count": 16,
   "metadata": {},
   "outputs": [],
   "source": [
    "from sklearn.manifold import TSNE\n",
    "\n",
    "X_embedded= TSNE(n_components=2, random_state=0, perplexity=15).fit_transform(Df)"
   ]
  },
  {
   "cell_type": "code",
   "execution_count": 17,
   "metadata": {},
   "outputs": [
    {
     "data": {
      "text/plain": [
       "<matplotlib.collections.PathCollection at 0x13710f6d0>"
      ]
     },
     "execution_count": 17,
     "metadata": {},
     "output_type": "execute_result"
    },
    {
     "data": {
      "image/png": "[encoded data removed]",
      "text/plain": [
       "<Figure size 640x480 with 1 Axes>"
      ]
     },
     "metadata": {},
     "output_type": "display_data"
    }
   ],
   "source": [
    "from matplotlib import pyplot as plt\n",
    "plt.scatter(X_embedded[:,0], X_embedded[:,1], c = ['r', 'r', 'r', 'r', 'r','r', 'r', 'r', 'r', 'r','r', 'r', 'r', 'r', 'r','b', 'b', 'b', 'b', 'b','b', 'b', 'b', 'b', 'b','b', 'b', 'b', 'b', 'b'])"
   ]
  }
 ],
 "metadata": {
  "kernelspec": {
   "display_name": "DataScience",
   "language": "python",
   "name": "python3"
  },
  "language_info": {
   "codemirror_mode": {
    "name": "ipython",
    "version": 3
   },
   "file_extension": ".py",
   "mimetype": "text/x-python",
   "name": "python",
   "nbconvert_exporter": "python",
   "pygments_lexer": "ipython3",
   "version": "3.11.8"
  }
 },
 "nbformat": 4,
 "nbformat_minor": 2
}
