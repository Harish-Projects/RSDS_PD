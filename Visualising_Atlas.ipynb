{
 "cells": [
  {
   "cell_type": "code",
   "execution_count": 5,
   "metadata": {},
   "outputs": [
    {
     "name": "stderr",
     "output_type": "stream",
     "text": [
      "pixdim[1,2,3] should be non-zero; setting 0 dims to 1\n"
     ]
    }
   ],
   "source": [
    "from nilearn import plotting\n",
    "import nibabel as nib\n",
    "path = \"C:/Users/haris/Desktop/fMRT Datensatz/MNINonLinear/Results/rfMRI_REST1_LR/rfMRI_REST1_LR_Atlas.dtseries.nii\"\n",
    "image_atlas = nib.load(path) # Recognizes the File and gives appropriate image.\n",
    "image_atlas2 = nib.cifti2."
   ]
  },
  {
   "cell_type": "code",
   "execution_count": 6,
   "metadata": {},
   "outputs": [
    {
     "data": {
      "text/plain": [
       "(1200, 91282)"
      ]
     },
     "execution_count": 6,
     "metadata": {},
     "output_type": "execute_result"
    }
   ],
   "source": [
    "image_atlas.shape"
   ]
  },
  {
   "cell_type": "code",
   "execution_count": 8,
   "metadata": {},
   "outputs": [
    {
     "data": {
      "text/plain": [
       "<nibabel.cifti2.cifti2.Cifti2Header at 0x2b081059110>"
      ]
     },
     "execution_count": 8,
     "metadata": {},
     "output_type": "execute_result"
    }
   ],
   "source": [
    "image_atlas.header"
   ]
  },
  {
   "cell_type": "code",
   "execution_count": 7,
   "metadata": {},
   "outputs": [
    {
     "ename": "TypeError",
     "evalue": "Data given cannot be loaded because it is not compatible with nibabel format:\nCifti2Image('rfMRI_REST1_LR_Atl...')",
     "output_type": "error",
     "traceback": [
      "\u001b[1;31m---------------------------------------------------------------------------\u001b[0m",
      "\u001b[1;31mTypeError\u001b[0m                                 Traceback (most recent call last)",
      "Cell \u001b[1;32mIn[7], line 1\u001b[0m\n\u001b[1;32m----> 1\u001b[0m plotting\u001b[38;5;241m.\u001b[39mplot_roi(image_atlas, title\u001b[38;5;241m=\u001b[39m\u001b[38;5;124m\"\u001b[39m\u001b[38;5;124mHarvard Oxford atlas\u001b[39m\u001b[38;5;124m\"\u001b[39m)\n",
      "File \u001b[1;32mc:\\Users\\haris\\anaconda3\\envs\\PD\\Lib\\site-packages\\nilearn\\plotting\\img_plotting.py:923\u001b[0m, in \u001b[0;36mplot_roi\u001b[1;34m(roi_img, bg_img, cut_coords, output_file, display_mode, figure, axes, title, annotate, draw_cross, black_bg, threshold, alpha, cmap, dim, colorbar, cbar_tick_format, vmin, vmax, resampling_interpolation, view_type, linewidths, radiological, **kwargs)\u001b[0m\n\u001b[0;32m    917\u001b[0m     roi_img \u001b[38;5;241m=\u001b[39m \u001b[38;5;28;01mNone\u001b[39;00m\n\u001b[0;32m    919\u001b[0m bg_img, black_bg, bg_vmin, bg_vmax \u001b[38;5;241m=\u001b[39m load_anat(\n\u001b[0;32m    920\u001b[0m     bg_img, dim\u001b[38;5;241m=\u001b[39mdim, black_bg\u001b[38;5;241m=\u001b[39mblack_bg\n\u001b[0;32m    921\u001b[0m )\n\u001b[1;32m--> 923\u001b[0m display \u001b[38;5;241m=\u001b[39m _plot_img_with_bg(\n\u001b[0;32m    924\u001b[0m     img\u001b[38;5;241m=\u001b[39mroi_img,\n\u001b[0;32m    925\u001b[0m     bg_img\u001b[38;5;241m=\u001b[39mbg_img,\n\u001b[0;32m    926\u001b[0m     cut_coords\u001b[38;5;241m=\u001b[39mcut_coords,\n\u001b[0;32m    927\u001b[0m     output_file\u001b[38;5;241m=\u001b[39moutput_file,\n\u001b[0;32m    928\u001b[0m     display_mode\u001b[38;5;241m=\u001b[39mdisplay_mode,\n\u001b[0;32m    929\u001b[0m     figure\u001b[38;5;241m=\u001b[39mfigure,\n\u001b[0;32m    930\u001b[0m     axes\u001b[38;5;241m=\u001b[39maxes,\n\u001b[0;32m    931\u001b[0m     title\u001b[38;5;241m=\u001b[39mtitle,\n\u001b[0;32m    932\u001b[0m     annotate\u001b[38;5;241m=\u001b[39mannotate,\n\u001b[0;32m    933\u001b[0m     draw_cross\u001b[38;5;241m=\u001b[39mdraw_cross,\n\u001b[0;32m    934\u001b[0m     black_bg\u001b[38;5;241m=\u001b[39mblack_bg,\n\u001b[0;32m    935\u001b[0m     threshold\u001b[38;5;241m=\u001b[39mthreshold,\n\u001b[0;32m    936\u001b[0m     bg_vmin\u001b[38;5;241m=\u001b[39mbg_vmin,\n\u001b[0;32m    937\u001b[0m     bg_vmax\u001b[38;5;241m=\u001b[39mbg_vmax,\n\u001b[0;32m    938\u001b[0m     resampling_interpolation\u001b[38;5;241m=\u001b[39mresampling_interpolation,\n\u001b[0;32m    939\u001b[0m     colorbar\u001b[38;5;241m=\u001b[39mcolorbar,\n\u001b[0;32m    940\u001b[0m     cbar_tick_format\u001b[38;5;241m=\u001b[39mcbar_tick_format,\n\u001b[0;32m    941\u001b[0m     alpha\u001b[38;5;241m=\u001b[39malpha,\n\u001b[0;32m    942\u001b[0m     cmap\u001b[38;5;241m=\u001b[39mcmap,\n\u001b[0;32m    943\u001b[0m     vmin\u001b[38;5;241m=\u001b[39mvmin,\n\u001b[0;32m    944\u001b[0m     vmax\u001b[38;5;241m=\u001b[39mvmax,\n\u001b[0;32m    945\u001b[0m     radiological\u001b[38;5;241m=\u001b[39mradiological,\n\u001b[0;32m    946\u001b[0m     \u001b[38;5;241m*\u001b[39m\u001b[38;5;241m*\u001b[39mkwargs,\n\u001b[0;32m    947\u001b[0m )\n\u001b[0;32m    949\u001b[0m \u001b[38;5;28;01mif\u001b[39;00m view_type \u001b[38;5;241m==\u001b[39m \u001b[38;5;124m\"\u001b[39m\u001b[38;5;124mcontours\u001b[39m\u001b[38;5;124m\"\u001b[39m:\n\u001b[0;32m    950\u001b[0m     display \u001b[38;5;241m=\u001b[39m _plot_roi_contours(\n\u001b[0;32m    951\u001b[0m         display, img, cmap\u001b[38;5;241m=\u001b[39mcmap, alpha\u001b[38;5;241m=\u001b[39malpha, linewidths\u001b[38;5;241m=\u001b[39mlinewidths\n\u001b[0;32m    952\u001b[0m     )\n",
      "File \u001b[1;32mc:\\Users\\haris\\anaconda3\\envs\\PD\\Lib\\site-packages\\nilearn\\plotting\\img_plotting.py:231\u001b[0m, in \u001b[0;36m_plot_img_with_bg\u001b[1;34m(img, bg_img, cut_coords, output_file, display_mode, colorbar, figure, axes, title, threshold, annotate, draw_cross, black_bg, vmin, vmax, bg_vmin, bg_vmax, interpolation, display_factory, cbar_vmin, cbar_vmax, cbar_tick_format, brain_color, decimals, radiological, **kwargs)\u001b[0m\n\u001b[0;32m    223\u001b[0m     \u001b[38;5;28;01mraise\u001b[39;00m \u001b[38;5;167;01mValueError\u001b[39;00m(\n\u001b[0;32m    224\u001b[0m         \u001b[38;5;124mf\u001b[39m\u001b[38;5;124m\"\u001b[39m\u001b[38;5;124mThe input given for display_mode=\u001b[39m\u001b[38;5;124m'\u001b[39m\u001b[38;5;132;01m{\u001b[39;00mdisplay_mode\u001b[38;5;132;01m}\u001b[39;00m\u001b[38;5;124m'\u001b[39m\u001b[38;5;124m \u001b[39m\u001b[38;5;124m\"\u001b[39m\n\u001b[0;32m    225\u001b[0m         \u001b[38;5;124m\"\u001b[39m\u001b[38;5;124mneeds to be a list of 3d world coordinates in (x, y, z). \u001b[39m\u001b[38;5;124m\"\u001b[39m\n\u001b[0;32m    226\u001b[0m         \u001b[38;5;124m\"\u001b[39m\u001b[38;5;124mYou provided single cut, \u001b[39m\u001b[38;5;124m\"\u001b[39m\n\u001b[0;32m    227\u001b[0m         \u001b[38;5;124mf\u001b[39m\u001b[38;5;124m\"\u001b[39m\u001b[38;5;124mcut_coords=\u001b[39m\u001b[38;5;132;01m{\u001b[39;00mcut_coords\u001b[38;5;132;01m}\u001b[39;00m\u001b[38;5;124m\"\u001b[39m\n\u001b[0;32m    228\u001b[0m     )\n\u001b[0;32m    230\u001b[0m \u001b[38;5;28;01mif\u001b[39;00m img \u001b[38;5;129;01mis\u001b[39;00m \u001b[38;5;129;01mnot\u001b[39;00m \u001b[38;5;28;01mFalse\u001b[39;00m \u001b[38;5;129;01mand\u001b[39;00m img \u001b[38;5;129;01mis\u001b[39;00m \u001b[38;5;129;01mnot\u001b[39;00m \u001b[38;5;28;01mNone\u001b[39;00m:\n\u001b[1;32m--> 231\u001b[0m     img \u001b[38;5;241m=\u001b[39m _utils\u001b[38;5;241m.\u001b[39mcheck_niimg_3d(img, dtype\u001b[38;5;241m=\u001b[39m\u001b[38;5;124m\"\u001b[39m\u001b[38;5;124mauto\u001b[39m\u001b[38;5;124m\"\u001b[39m)\n\u001b[0;32m    232\u001b[0m     data \u001b[38;5;241m=\u001b[39m safe_get_data(img, ensure_finite\u001b[38;5;241m=\u001b[39m\u001b[38;5;28;01mTrue\u001b[39;00m)\n\u001b[0;32m    233\u001b[0m     affine \u001b[38;5;241m=\u001b[39m img\u001b[38;5;241m.\u001b[39maffine\n",
      "File \u001b[1;32mc:\\Users\\haris\\anaconda3\\envs\\PD\\Lib\\site-packages\\nilearn\\_utils\\niimg_conversions.py:370\u001b[0m, in \u001b[0;36mcheck_niimg_3d\u001b[1;34m(niimg, dtype)\u001b[0m\n\u001b[0;32m    336\u001b[0m \u001b[38;5;28;01mdef\u001b[39;00m \u001b[38;5;21mcheck_niimg_3d\u001b[39m(niimg, dtype\u001b[38;5;241m=\u001b[39m\u001b[38;5;28;01mNone\u001b[39;00m):\n\u001b[0;32m    337\u001b[0m \u001b[38;5;250m    \u001b[39m\u001b[38;5;124;03m\"\"\"Check that niimg is a proper 3D niimg-like object and load it.\u001b[39;00m\n\u001b[0;32m    338\u001b[0m \n\u001b[0;32m    339\u001b[0m \u001b[38;5;124;03m    Parameters\u001b[39;00m\n\u001b[1;32m   (...)\u001b[0m\n\u001b[0;32m    368\u001b[0m \n\u001b[0;32m    369\u001b[0m \u001b[38;5;124;03m    \"\"\"\u001b[39;00m\n\u001b[1;32m--> 370\u001b[0m     \u001b[38;5;28;01mreturn\u001b[39;00m check_niimg(niimg, ensure_ndim\u001b[38;5;241m=\u001b[39m\u001b[38;5;241m3\u001b[39m, dtype\u001b[38;5;241m=\u001b[39mdtype)\n",
      "File \u001b[1;32mc:\\Users\\haris\\anaconda3\\envs\\PD\\Lib\\site-packages\\nilearn\\_utils\\niimg_conversions.py:315\u001b[0m, in \u001b[0;36mcheck_niimg\u001b[1;34m(niimg, ensure_ndim, atleast_4d, dtype, return_iterator, wildcards)\u001b[0m\n\u001b[0;32m    310\u001b[0m     \u001b[38;5;28;01mreturn\u001b[39;00m ni\u001b[38;5;241m.\u001b[39mimage\u001b[38;5;241m.\u001b[39mconcat_imgs(\n\u001b[0;32m    311\u001b[0m         niimg, ensure_ndim\u001b[38;5;241m=\u001b[39mensure_ndim, dtype\u001b[38;5;241m=\u001b[39mdtype\n\u001b[0;32m    312\u001b[0m     )\n\u001b[0;32m    314\u001b[0m \u001b[38;5;66;03m# Otherwise, it should be a filename or a SpatialImage, we load it\u001b[39;00m\n\u001b[1;32m--> 315\u001b[0m niimg \u001b[38;5;241m=\u001b[39m load_niimg(niimg, dtype\u001b[38;5;241m=\u001b[39mdtype)\n\u001b[0;32m    317\u001b[0m \u001b[38;5;28;01mif\u001b[39;00m ensure_ndim \u001b[38;5;241m==\u001b[39m \u001b[38;5;241m3\u001b[39m \u001b[38;5;129;01mand\u001b[39;00m \u001b[38;5;28mlen\u001b[39m(niimg\u001b[38;5;241m.\u001b[39mshape) \u001b[38;5;241m==\u001b[39m \u001b[38;5;241m4\u001b[39m \u001b[38;5;129;01mand\u001b[39;00m niimg\u001b[38;5;241m.\u001b[39mshape[\u001b[38;5;241m3\u001b[39m] \u001b[38;5;241m==\u001b[39m \u001b[38;5;241m1\u001b[39m:\n\u001b[0;32m    318\u001b[0m     \u001b[38;5;66;03m# \"squeeze\" the image.\u001b[39;00m\n\u001b[0;32m    319\u001b[0m     data \u001b[38;5;241m=\u001b[39m safe_get_data(niimg)\n",
      "File \u001b[1;32mc:\\Users\\haris\\anaconda3\\envs\\PD\\Lib\\site-packages\\nilearn\\_utils\\niimg.py:129\u001b[0m, in \u001b[0;36mload_niimg\u001b[1;34m(niimg, dtype)\u001b[0m\n\u001b[0;32m    127\u001b[0m     niimg \u001b[38;5;241m=\u001b[39m nibabel\u001b[38;5;241m.\u001b[39mload(niimg)\n\u001b[0;32m    128\u001b[0m \u001b[38;5;28;01melif\u001b[39;00m \u001b[38;5;129;01mnot\u001b[39;00m \u001b[38;5;28misinstance\u001b[39m(niimg, nibabel\u001b[38;5;241m.\u001b[39mspatialimages\u001b[38;5;241m.\u001b[39mSpatialImage):\n\u001b[1;32m--> 129\u001b[0m     \u001b[38;5;28;01mraise\u001b[39;00m \u001b[38;5;167;01mTypeError\u001b[39;00m(\n\u001b[0;32m    130\u001b[0m         \u001b[38;5;124m\"\u001b[39m\u001b[38;5;124mData given cannot be loaded because it is\u001b[39m\u001b[38;5;124m\"\u001b[39m\n\u001b[0;32m    131\u001b[0m         \u001b[38;5;124m\"\u001b[39m\u001b[38;5;124m not compatible with nibabel format:\u001b[39m\u001b[38;5;130;01m\\n\u001b[39;00m\u001b[38;5;124m\"\u001b[39m\n\u001b[0;32m    132\u001b[0m         \u001b[38;5;241m+\u001b[39m _repr_niimgs(niimg, shorten\u001b[38;5;241m=\u001b[39m\u001b[38;5;28;01mTrue\u001b[39;00m)\n\u001b[0;32m    133\u001b[0m     )\n\u001b[0;32m    135\u001b[0m dtype \u001b[38;5;241m=\u001b[39m _get_target_dtype(_get_data(niimg)\u001b[38;5;241m.\u001b[39mdtype, dtype)\n\u001b[0;32m    137\u001b[0m \u001b[38;5;28;01mif\u001b[39;00m dtype \u001b[38;5;129;01mis\u001b[39;00m \u001b[38;5;129;01mnot\u001b[39;00m \u001b[38;5;28;01mNone\u001b[39;00m:\n\u001b[0;32m    138\u001b[0m     \u001b[38;5;66;03m# Copyheader and set dtype in header if header exists\u001b[39;00m\n",
      "\u001b[1;31mTypeError\u001b[0m: Data given cannot be loaded because it is not compatible with nibabel format:\nCifti2Image('rfMRI_REST1_LR_Atl...')"
     ]
    }
   ],
   "source": [
    "plotting.plot_roi(image_atlas, title=\"Harvard Oxford atlas\")"
   ]
  },
  {
   "cell_type": "code",
   "execution_count": null,
   "metadata": {},
   "outputs": [],
   "source": []
  }
 ],
 "metadata": {
  "kernelspec": {
   "display_name": "PD",
   "language": "python",
   "name": "python3"
  },
  "language_info": {
   "codemirror_mode": {
    "name": "ipython",
    "version": 3
   },
   "file_extension": ".py",
   "mimetype": "text/x-python",
   "name": "python",
   "nbconvert_exporter": "python",
   "pygments_lexer": "ipython3",
   "version": "3.11.8"
  }
 },
 "nbformat": 4,
 "nbformat_minor": 2
}
